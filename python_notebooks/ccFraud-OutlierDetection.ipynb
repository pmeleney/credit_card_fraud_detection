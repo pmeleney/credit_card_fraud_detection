{
 "cells": [
  {
   "cell_type": "markdown",
   "metadata": {},
   "source": [
    "# Credit Card Fraud as Outlier Detection"
   ]
  },
  {
   "cell_type": "markdown",
   "metadata": {},
   "source": [
    "In 2018 US credit card companies lost $9.36B to fraud, the highest reported loss for any country in the world. Identifying credit card fraud is essential for protecting customers and companies.  Companies with lower rates of fraud can protect earnings and pass savings on to customers, potentially leveraging a market advantage.\n",
    "\n",
    "In 2018 Machine Learning Group - ULB provided a data set on Kaggle which contained transactions made by credit card over two days in September 2013 by European cardholders.  The objective of the exercise is to identify as many of the 492 frauds as possible, while excluding the 284,315 legitimate transactions.\n",
    "\n",
    "I will approach this problem as outlier identification.  The implicit hypothesis is that fraudulent purchases are dissimilar to \"regular\" non-fraudulent purchasing habits, and therefore constitute a disproportionate number of the outliers.  The advantage of this approach is that we will not need to exclude data or \"balance\" the highly unbalanced data set, we will identify and flag outliers directly which, by their nature, constitute a small percentage of examples."
   ]
  },
  {
   "cell_type": "code",
   "execution_count": 1,
   "metadata": {},
   "outputs": [],
   "source": [
    "import math\n",
    "\n",
    "import pandas as pd\n",
    "import numpy as np\n",
    "import seaborn as sns\n",
    "import matplotlib.pyplot as plt\n",
    "\n",
    "from sklearn.model_selection import train_test_split, KFold\n",
    "from sklearn.preprocessing import PowerTransformer, MinMaxScaler\n",
    "from sklearn.cluster import KMeans\n",
    "from sklearn.metrics import silhouette_score, auc\n",
    "from sklearn.mixture import GaussianMixture"
   ]
  },
  {
   "cell_type": "markdown",
   "metadata": {},
   "source": [
    "## IMPORT DATA"
   ]
  },
  {
   "cell_type": "code",
   "execution_count": 2,
   "metadata": {},
   "outputs": [],
   "source": [
    "data_raw = pd.read_csv('../data/creditcard.csv')"
   ]
  },
  {
   "cell_type": "code",
   "execution_count": 3,
   "metadata": {},
   "outputs": [
    {
     "data": {
      "text/html": [
       "<div>\n",
       "<style scoped>\n",
       "    .dataframe tbody tr th:only-of-type {\n",
       "        vertical-align: middle;\n",
       "    }\n",
       "\n",
       "    .dataframe tbody tr th {\n",
       "        vertical-align: top;\n",
       "    }\n",
       "\n",
       "    .dataframe thead th {\n",
       "        text-align: right;\n",
       "    }\n",
       "</style>\n",
       "<table border=\"1\" class=\"dataframe\">\n",
       "  <thead>\n",
       "    <tr style=\"text-align: right;\">\n",
       "      <th></th>\n",
       "      <th>Time</th>\n",
       "      <th>V1</th>\n",
       "      <th>V2</th>\n",
       "      <th>V3</th>\n",
       "      <th>V4</th>\n",
       "      <th>V5</th>\n",
       "      <th>V6</th>\n",
       "      <th>V7</th>\n",
       "      <th>V8</th>\n",
       "      <th>V9</th>\n",
       "      <th>...</th>\n",
       "      <th>V21</th>\n",
       "      <th>V22</th>\n",
       "      <th>V23</th>\n",
       "      <th>V24</th>\n",
       "      <th>V25</th>\n",
       "      <th>V26</th>\n",
       "      <th>V27</th>\n",
       "      <th>V28</th>\n",
       "      <th>Amount</th>\n",
       "      <th>Class</th>\n",
       "    </tr>\n",
       "  </thead>\n",
       "  <tbody>\n",
       "    <tr>\n",
       "      <th>0</th>\n",
       "      <td>0.0</td>\n",
       "      <td>-1.359807</td>\n",
       "      <td>-0.072781</td>\n",
       "      <td>2.536347</td>\n",
       "      <td>1.378155</td>\n",
       "      <td>-0.338321</td>\n",
       "      <td>0.462388</td>\n",
       "      <td>0.239599</td>\n",
       "      <td>0.098698</td>\n",
       "      <td>0.363787</td>\n",
       "      <td>...</td>\n",
       "      <td>-0.018307</td>\n",
       "      <td>0.277838</td>\n",
       "      <td>-0.110474</td>\n",
       "      <td>0.066928</td>\n",
       "      <td>0.128539</td>\n",
       "      <td>-0.189115</td>\n",
       "      <td>0.133558</td>\n",
       "      <td>-0.021053</td>\n",
       "      <td>149.62</td>\n",
       "      <td>0</td>\n",
       "    </tr>\n",
       "    <tr>\n",
       "      <th>1</th>\n",
       "      <td>0.0</td>\n",
       "      <td>1.191857</td>\n",
       "      <td>0.266151</td>\n",
       "      <td>0.166480</td>\n",
       "      <td>0.448154</td>\n",
       "      <td>0.060018</td>\n",
       "      <td>-0.082361</td>\n",
       "      <td>-0.078803</td>\n",
       "      <td>0.085102</td>\n",
       "      <td>-0.255425</td>\n",
       "      <td>...</td>\n",
       "      <td>-0.225775</td>\n",
       "      <td>-0.638672</td>\n",
       "      <td>0.101288</td>\n",
       "      <td>-0.339846</td>\n",
       "      <td>0.167170</td>\n",
       "      <td>0.125895</td>\n",
       "      <td>-0.008983</td>\n",
       "      <td>0.014724</td>\n",
       "      <td>2.69</td>\n",
       "      <td>0</td>\n",
       "    </tr>\n",
       "    <tr>\n",
       "      <th>2</th>\n",
       "      <td>1.0</td>\n",
       "      <td>-1.358354</td>\n",
       "      <td>-1.340163</td>\n",
       "      <td>1.773209</td>\n",
       "      <td>0.379780</td>\n",
       "      <td>-0.503198</td>\n",
       "      <td>1.800499</td>\n",
       "      <td>0.791461</td>\n",
       "      <td>0.247676</td>\n",
       "      <td>-1.514654</td>\n",
       "      <td>...</td>\n",
       "      <td>0.247998</td>\n",
       "      <td>0.771679</td>\n",
       "      <td>0.909412</td>\n",
       "      <td>-0.689281</td>\n",
       "      <td>-0.327642</td>\n",
       "      <td>-0.139097</td>\n",
       "      <td>-0.055353</td>\n",
       "      <td>-0.059752</td>\n",
       "      <td>378.66</td>\n",
       "      <td>0</td>\n",
       "    </tr>\n",
       "    <tr>\n",
       "      <th>3</th>\n",
       "      <td>1.0</td>\n",
       "      <td>-0.966272</td>\n",
       "      <td>-0.185226</td>\n",
       "      <td>1.792993</td>\n",
       "      <td>-0.863291</td>\n",
       "      <td>-0.010309</td>\n",
       "      <td>1.247203</td>\n",
       "      <td>0.237609</td>\n",
       "      <td>0.377436</td>\n",
       "      <td>-1.387024</td>\n",
       "      <td>...</td>\n",
       "      <td>-0.108300</td>\n",
       "      <td>0.005274</td>\n",
       "      <td>-0.190321</td>\n",
       "      <td>-1.175575</td>\n",
       "      <td>0.647376</td>\n",
       "      <td>-0.221929</td>\n",
       "      <td>0.062723</td>\n",
       "      <td>0.061458</td>\n",
       "      <td>123.50</td>\n",
       "      <td>0</td>\n",
       "    </tr>\n",
       "    <tr>\n",
       "      <th>4</th>\n",
       "      <td>2.0</td>\n",
       "      <td>-1.158233</td>\n",
       "      <td>0.877737</td>\n",
       "      <td>1.548718</td>\n",
       "      <td>0.403034</td>\n",
       "      <td>-0.407193</td>\n",
       "      <td>0.095921</td>\n",
       "      <td>0.592941</td>\n",
       "      <td>-0.270533</td>\n",
       "      <td>0.817739</td>\n",
       "      <td>...</td>\n",
       "      <td>-0.009431</td>\n",
       "      <td>0.798278</td>\n",
       "      <td>-0.137458</td>\n",
       "      <td>0.141267</td>\n",
       "      <td>-0.206010</td>\n",
       "      <td>0.502292</td>\n",
       "      <td>0.219422</td>\n",
       "      <td>0.215153</td>\n",
       "      <td>69.99</td>\n",
       "      <td>0</td>\n",
       "    </tr>\n",
       "  </tbody>\n",
       "</table>\n",
       "<p>5 rows × 31 columns</p>\n",
       "</div>"
      ],
      "text/plain": [
       "   Time        V1        V2        V3        V4        V5        V6        V7  \\\n",
       "0   0.0 -1.359807 -0.072781  2.536347  1.378155 -0.338321  0.462388  0.239599   \n",
       "1   0.0  1.191857  0.266151  0.166480  0.448154  0.060018 -0.082361 -0.078803   \n",
       "2   1.0 -1.358354 -1.340163  1.773209  0.379780 -0.503198  1.800499  0.791461   \n",
       "3   1.0 -0.966272 -0.185226  1.792993 -0.863291 -0.010309  1.247203  0.237609   \n",
       "4   2.0 -1.158233  0.877737  1.548718  0.403034 -0.407193  0.095921  0.592941   \n",
       "\n",
       "         V8        V9  ...       V21       V22       V23       V24       V25  \\\n",
       "0  0.098698  0.363787  ... -0.018307  0.277838 -0.110474  0.066928  0.128539   \n",
       "1  0.085102 -0.255425  ... -0.225775 -0.638672  0.101288 -0.339846  0.167170   \n",
       "2  0.247676 -1.514654  ...  0.247998  0.771679  0.909412 -0.689281 -0.327642   \n",
       "3  0.377436 -1.387024  ... -0.108300  0.005274 -0.190321 -1.175575  0.647376   \n",
       "4 -0.270533  0.817739  ... -0.009431  0.798278 -0.137458  0.141267 -0.206010   \n",
       "\n",
       "        V26       V27       V28  Amount  Class  \n",
       "0 -0.189115  0.133558 -0.021053  149.62      0  \n",
       "1  0.125895 -0.008983  0.014724    2.69      0  \n",
       "2 -0.139097 -0.055353 -0.059752  378.66      0  \n",
       "3 -0.221929  0.062723  0.061458  123.50      0  \n",
       "4  0.502292  0.219422  0.215153   69.99      0  \n",
       "\n",
       "[5 rows x 31 columns]"
      ]
     },
     "execution_count": 3,
     "metadata": {},
     "output_type": "execute_result"
    }
   ],
   "source": [
    "data_raw.head()"
   ]
  },
  {
   "cell_type": "code",
   "execution_count": 4,
   "metadata": {},
   "outputs": [
    {
     "name": "stdout",
     "output_type": "stream",
     "text": [
      "<class 'pandas.core.frame.DataFrame'>\n",
      "RangeIndex: 284807 entries, 0 to 284806\n",
      "Data columns (total 31 columns):\n",
      " #   Column  Non-Null Count   Dtype  \n",
      "---  ------  --------------   -----  \n",
      " 0   Time    284807 non-null  float64\n",
      " 1   V1      284807 non-null  float64\n",
      " 2   V2      284807 non-null  float64\n",
      " 3   V3      284807 non-null  float64\n",
      " 4   V4      284807 non-null  float64\n",
      " 5   V5      284807 non-null  float64\n",
      " 6   V6      284807 non-null  float64\n",
      " 7   V7      284807 non-null  float64\n",
      " 8   V8      284807 non-null  float64\n",
      " 9   V9      284807 non-null  float64\n",
      " 10  V10     284807 non-null  float64\n",
      " 11  V11     284807 non-null  float64\n",
      " 12  V12     284807 non-null  float64\n",
      " 13  V13     284807 non-null  float64\n",
      " 14  V14     284807 non-null  float64\n",
      " 15  V15     284807 non-null  float64\n",
      " 16  V16     284807 non-null  float64\n",
      " 17  V17     284807 non-null  float64\n",
      " 18  V18     284807 non-null  float64\n",
      " 19  V19     284807 non-null  float64\n",
      " 20  V20     284807 non-null  float64\n",
      " 21  V21     284807 non-null  float64\n",
      " 22  V22     284807 non-null  float64\n",
      " 23  V23     284807 non-null  float64\n",
      " 24  V24     284807 non-null  float64\n",
      " 25  V25     284807 non-null  float64\n",
      " 26  V26     284807 non-null  float64\n",
      " 27  V27     284807 non-null  float64\n",
      " 28  V28     284807 non-null  float64\n",
      " 29  Amount  284807 non-null  float64\n",
      " 30  Class   284807 non-null  int64  \n",
      "dtypes: float64(30), int64(1)\n",
      "memory usage: 67.4 MB\n"
     ]
    }
   ],
   "source": [
    "data_raw.info()"
   ]
  },
  {
   "cell_type": "markdown",
   "metadata": {},
   "source": [
    "## Train-Test Split"
   ]
  },
  {
   "cell_type": "code",
   "execution_count": 5,
   "metadata": {},
   "outputs": [
    {
     "name": "stdout",
     "output_type": "stream",
     "text": [
      "num frauds in training set: 320\n",
      "num frauds in test set: 172\n"
     ]
    }
   ],
   "source": [
    "y = data_raw['Class']\n",
    "X = data_raw.drop(['Class'], axis = 1)\n",
    "\n",
    "X_train_raw, X_test_raw, y_train, y_test = train_test_split(X, y, test_size = 0.3, random_state = 47)\n",
    "\n",
    "print('num frauds in training set:', y_train.sum())\n",
    "print('num frauds in test set:', y_test.sum())"
   ]
  },
  {
   "cell_type": "markdown",
   "metadata": {},
   "source": [
    "## Data Exploration"
   ]
  },
  {
   "cell_type": "code",
   "execution_count": 6,
   "metadata": {},
   "outputs": [
    {
     "data": {
      "text/plain": [
       "<matplotlib.axes._subplots.AxesSubplot at 0x1ed42b10a20>"
      ]
     },
     "execution_count": 6,
     "metadata": {},
     "output_type": "execute_result"
    },
    {
     "data": {
      "image/png": "[encoded data removed]",
      "text/plain": [
       "<Figure size 432x288 with 1 Axes>"
      ]
     },
     "metadata": {
      "needs_background": "light"
     },
     "output_type": "display_data"
    }
   ],
   "source": [
    "sns.distplot(X_train_raw['Time'])"
   ]
  },
  {
   "cell_type": "code",
   "execution_count": 7,
   "metadata": {},
   "outputs": [
    {
     "data": {
      "text/plain": [
       "<seaborn.axisgrid.JointGrid at 0x1ed4bae6400>"
      ]
     },
     "execution_count": 7,
     "metadata": {},
     "output_type": "execute_result"
    },
    {
     "data": {
      "image/png": "[encoded data removed]",
      "text/plain": [
       "<Figure size 432x432 with 3 Axes>"
      ]
     },
     "metadata": {
      "needs_background": "light"
     },
     "output_type": "display_data"
    }
   ],
   "source": [
    "sns.jointplot(x=\"V1\", y=\"V2\", data=X_train_raw)"
   ]
  },
  {
   "cell_type": "markdown",
   "metadata": {},
   "source": [
    "## Data Transformation and Standardization"
   ]
  },
  {
   "cell_type": "markdown",
   "metadata": {},
   "source": [
    "In this section I perform a Yeo-Johnson power transformation and then apply a MinMaxScaler to force each PCA feature and Amount to be in the range [-1,1].  I treat Time differently, first I subtract 86,400 seconds (one day's worth) from all times greater than 86,400, thus createing a sawtooth \"Time of Day\" variable from the linear Time varaible.  Next I take the sine of the \"Time of Day\", changing the period of the sine curve to be over 86,400 instead of 2pi.  "
   ]
  },
  {
   "cell_type": "code",
   "execution_count": 8,
   "metadata": {},
   "outputs": [],
   "source": [
    "#Extract the Time feature to be treated differently\n",
    "Time_train = X_train_raw['Time']\n",
    "Time_test = X_test_raw['Time']\n",
    "X_train_raw = X_train_raw.drop('Time', axis=1)\n",
    "X_test_raw = X_test_raw.drop('Time', axis=1)\n",
    "\n",
    "#apply the Yeo-Johnson power transform\n",
    "pt = PowerTransformer()\n",
    "pt.fit(X_train_raw, 'yeo-johnson')\n",
    "X_train = pt.transform(X_train_raw)\n",
    "X_test = pt.transform(X_test_raw)\n",
    "\n",
    "#apply the MinMaxScaler transform\n",
    "scaler = MinMaxScaler(feature_range=(-1,1))\n",
    "scaler.fit(X_train)\n",
    "X_train = scaler.transform(X_train)\n",
    "X_test = scaler.transform(X_test)\n",
    "\n",
    "#recombine the Time feature with the transformed dataset\n",
    "X_train = pd.DataFrame(X_train)\n",
    "Time_train = pd.DataFrame(Time_train)\n",
    "Time_train.index = X_train.index\n",
    "X_train['Time'] = Time_train\n",
    "\n",
    "X_test = pd.DataFrame(X_test)\n",
    "Time_test = pd.DataFrame(Time_test)\n",
    "Time_test.index = X_test.index\n",
    "X_test['Time'] = Time_test\n",
    "\n",
    "#rename columns lost during power transform\n",
    "X_train.columns = [\"V1\",\"V2\",\"V3\",\"V4\",\"V5\",\"V6\",\"V7\",\"V8\",\"V9\",\"V10\",\"V11\",\"V12\",\"V13\",\"V14\",\"V15\",\"V16\",\"V17\",\"V18\",\n",
    "                   \"V19\",\"V20\",\"V21\",\"V22\",\"V23\",\"V24\",\"V25\",\"V26\",\"V27\",\"V28\",'Amount','Time']\n",
    "X_test.columns = [\"V1\",\"V2\",\"V3\",\"V4\",\"V5\",\"V6\",\"V7\",\"V8\",\"V9\",\"V10\",\"V11\",\"V12\",\"V13\",\"V14\",\"V15\",\"V16\",\"V17\",\"V18\",\n",
    "                   \"V19\",\"V20\",\"V21\",\"V22\",\"V23\",\"V24\",\"V25\",\"V26\",\"V27\",\"V28\",'Amount','Time']\n",
    "\n",
    "#subtract 86,400 seconds if greater than 86,400\n",
    "X_train['Time'] = X_train['Time'].apply(lambda x: x-(24*3600) if x > 24*3600 else x)\n",
    "X_test['Time'] = X_test['Time'].apply(lambda x: x-(24*3600) if x > 24*3600 else x)\n",
    "\n",
    "#apply sin transformation\n",
    "X_train[\"Time\"] = X_train['Time'].apply(lambda x: math.sin((2*np.pi*x)/(24*3600)))\n",
    "X_test[\"Time\"] = X_test['Time'].apply(lambda x: math.sin((2*np.pi*x)/(24*3600)))"
   ]
  },
  {
   "cell_type": "markdown",
   "metadata": {},
   "source": [
    "## Feature Visualization"
   ]
  },
  {
   "cell_type": "markdown",
   "metadata": {},
   "source": [
    "This code creates a matplotlib histogram for each of the features transformed in the previous section.  It has been commented out because it takes a lot of space.  Most features are well-behaved (i.e. they look Gaussian), however V1 and Amount look somewhat non-normal.  They are called out here.   "
   ]
  },
  {
   "cell_type": "code",
   "execution_count": 9,
   "metadata": {
    "scrolled": false
   },
   "outputs": [],
   "source": [
    "#for var in X_train:\n",
    "#    plt.hist(X_train[var], bins=100)\n",
    "#    plt.title(var)\n",
    "#    plt.show()"
   ]
  },
  {
   "cell_type": "code",
   "execution_count": 10,
   "metadata": {},
   "outputs": [
    {
     "data": {
      "image/png": "[encoded data removed]",
      "text/plain": [
       "<Figure size 432x288 with 1 Axes>"
      ]
     },
     "metadata": {
      "needs_background": "light"
     },
     "output_type": "display_data"
    },
    {
     "data": {
      "image/png": "[encoded data removed]",
      "text/plain": [
       "<Figure size 432x288 with 1 Axes>"
      ]
     },
     "metadata": {
      "needs_background": "light"
     },
     "output_type": "display_data"
    }
   ],
   "source": [
    "X_train_sub = X_train[['V1', 'Amount']]\n",
    "for var in X_train_sub:\n",
    "    plt.hist(X_train_sub[var], bins=100)\n",
    "    plt.title(var)\n",
    "    plt.show()"
   ]
  },
  {
   "cell_type": "markdown",
   "metadata": {},
   "source": [
    "## K-Means n_clusters Selection"
   ]
  },
  {
   "cell_type": "markdown",
   "metadata": {},
   "source": [
    "We calculate a Silhouette Coefficient for 10k and 20k subsample of the training data for n_clusters = [2,9].  We find that k=2 has the highest coefficient value."
   ]
  },
  {
   "cell_type": "code",
   "execution_count": 11,
   "metadata": {},
   "outputs": [],
   "source": [
    "#define the range of n_custers\n",
    "r = range(2,10)\n",
    "\n",
    "#Silhouette coefficient for 10k samples\n",
    "sil = []\n",
    "for k in r:\n",
    "    kmeans = KMeans(n_clusters = k, random_state = 47)\n",
    "    kmeans.fit(X_train)\n",
    "    sil.append(silhouette_score(X_train, kmeans.labels_, sample_size=10000, random_state=47))\n",
    "\n",
    "#Silhouette coefficient for 20k samples\n",
    "sil2 = []\n",
    "for k in r:\n",
    "    kmeans = KMeans(n_clusters = k, random_state = 47)\n",
    "    kmeans.fit(X_train)\n",
    "    sil2.append(silhouette_score(X_train, kmeans.labels_, sample_size=20000, random_state=48))"
   ]
  },
  {
   "cell_type": "code",
   "execution_count": 12,
   "metadata": {},
   "outputs": [
    {
     "data": {
      "image/png": "[encoded data removed]",
      "text/plain": [
       "<Figure size 432x288 with 1 Axes>"
      ]
     },
     "metadata": {
      "needs_background": "light"
     },
     "output_type": "display_data"
    }
   ],
   "source": [
    "#Plot silhouette coefficient\n",
    "plt.plot(r, sil, 'o', label = '10k samples')\n",
    "plt.plot(r, sil2, 'o', label = '20k samples')\n",
    "plt.grid(True)\n",
    "plt.xticks(range(2,10))\n",
    "plt.legend()\n",
    "plt.title('Silhouette Coefficient')\n",
    "plt.ylabel('Coefficient')\n",
    "plt.xlabel('Num Clusters')\n",
    "plt.show()"
   ]
  },
  {
   "cell_type": "markdown",
   "metadata": {},
   "source": [
    "## Execute K-Means Clustering"
   ]
  },
  {
   "cell_type": "code",
   "execution_count": 13,
   "metadata": {},
   "outputs": [],
   "source": [
    "kmeans = KMeans(n_clusters=2, random_state=47)\n",
    "kmeans.fit(X_train)\n",
    "\n",
    "X_train['Cluster'] = kmeans.labels_"
   ]
  },
  {
   "cell_type": "markdown",
   "metadata": {},
   "source": [
    "## Cross Validation"
   ]
  },
  {
   "cell_type": "code",
   "execution_count": 14,
   "metadata": {},
   "outputs": [],
   "source": [
    "ROC = pd.DataFrame([])\n",
    "kf = KFold(n_splits=10)\n",
    "\n",
    "#test n_comp = [1,4] for GMM\n",
    "for n_comp in range(1,5):\n",
    "\n",
    "    gm = GaussianMixture(n_components=n_comp)\n",
    "    \n",
    "    #Execute 10-fold cross-validation\n",
    "    for train_index, test_index in kf.split(X_train):\n",
    "        X_train_kf = X_train.iloc[train_index]\n",
    "        X_test_kf = X_train.iloc[test_index]\n",
    "        y_train_kf = y_train.iloc[train_index]\n",
    "        y_test_kf = y_train.iloc[test_index]\n",
    "\n",
    "        df = pd.DataFrame([])\n",
    "        \n",
    "        #Calculate probability that a sample belongs to each of the clusters.\n",
    "        for cluster in range(0,2):\n",
    "            gm.fit(X_train_kf[X_train_kf['Cluster'] == cluster].drop('Cluster', axis = 1))\n",
    "            df[cluster] = gm.score_samples(X_test_kf.drop('Cluster', axis = 1))\n",
    "        \n",
    "        #Score samples produces a log prob, we take the exponent to calculate probability.\n",
    "        outputs = np.exp(df.max(axis = 1))\n",
    "        \n",
    "        #Create array of threshold values, logspace\n",
    "        N = 76\n",
    "        thresh = np.logspace(-50,25, N)\n",
    "\n",
    "        #Make predictions based on threshold value \n",
    "        TPR_list = []\n",
    "        FPR_list = []\n",
    "        for t in thresh:\n",
    "            predictions = []\n",
    "            for output in outputs:\n",
    "                if output < t:\n",
    "                    predictions.append(1)\n",
    "                else:\n",
    "                    predictions.append(0)\n",
    "            \n",
    "            #Create dataframe containing predictions and actual outcomes for KFold\n",
    "            df_test_outcomes = pd.DataFrame({'predictions':predictions,'y_test':y_test_kf})\n",
    "            \n",
    "            #Calculate true positive rate and false positive rate for each fold\n",
    "            TP = df_test_outcomes[(df_test_outcomes['predictions'] == 1) & (df_test_outcomes['y_test'] == 1)].shape[0]\n",
    "            TN = df_test_outcomes[(df_test_outcomes['predictions'] == 0) & (df_test_outcomes['y_test'] == 0)].shape[0]\n",
    "            FP = df_test_outcomes[(df_test_outcomes['predictions'] == 1) & (df_test_outcomes['y_test'] == 0)].shape[0]\n",
    "            FN = df_test_outcomes[(df_test_outcomes['predictions'] == 0) & (df_test_outcomes['y_test'] == 1)].shape[0]\n",
    "\n",
    "            TPR = TP/(TP+FN)\n",
    "            spec = TN/(TN+FP)\n",
    "            FPR = 1-spec\n",
    "\n",
    "            TPR_list.append(TPR)\n",
    "            FPR_list.append(FPR)\n",
    "\n",
    "            TPR_str = 'TPR_' + str(n_comp)\n",
    "            FPR_str = 'FPR_' + str(n_comp)\n",
    "\n",
    "        if ROC.shape[0] >0:\n",
    "            ROC_tmp = pd.DataFrame({TPR_str:TPR_list, FPR_str:FPR_list})\n",
    "            ROC_tmp.index = thresh\n",
    "            ROC = pd.concat([ROC, ROC_tmp], axis=1)\n",
    "        else:\n",
    "            ROC = pd.DataFrame({TPR_str:TPR_list, FPR_str:FPR_list})\n",
    "            ROC.index = thresh\n",
    "\n",
    "#Take the average of ROC calculations for folds with same number of components\n",
    "ROC_kf = {}\n",
    "for n in range(1,n_comp+1):\n",
    "    ROC_kf['TPR_'+str(n)] = ROC['TPR_'+str(n)].mean(axis=1)\n",
    "    ROC_kf['FPR_'+str(n)] = ROC['FPR_'+str(n)].mean(axis=1)\n",
    "\n",
    "#Convert ROC_kf into dataframe\n",
    "ROC_kf = pd.DataFrame(ROC_kf)"
   ]
  },
  {
   "cell_type": "markdown",
   "metadata": {},
   "source": [
    "## Plot Validation ROC curves"
   ]
  },
  {
   "cell_type": "code",
   "execution_count": 15,
   "metadata": {},
   "outputs": [
    {
     "data": {
      "text/plain": [
       "(0, 1)"
      ]
     },
     "execution_count": 15,
     "metadata": {},
     "output_type": "execute_result"
    },
    {
     "data": {
      "image/png": "[encoded data removed]",
      "text/plain": [
       "<Figure size 432x288 with 1 Axes>"
      ]
     },
     "metadata": {
      "needs_background": "light"
     },
     "output_type": "display_data"
    }
   ],
   "source": [
    "plt.plot(ROC_kf['FPR_1'], ROC_kf['TPR_1'], 'o', label='n_comp=1')\n",
    "plt.plot(ROC_kf['FPR_2'], ROC_kf['TPR_2'], 'o', label='n_comp=2')\n",
    "plt.plot(ROC_kf['FPR_3'], ROC_kf['TPR_3'], 'o', label='n_comp=3')\n",
    "plt.plot(ROC_kf['FPR_4'], ROC_kf['TPR_4'], 'o', label='n_comp=4')\n",
    "plt.plot([0,1],[0,1], label = '1:1 line')\n",
    "plt.legend()\n",
    "plt.xlim(0,1)\n",
    "plt.ylim(0,1)"
   ]
  },
  {
   "cell_type": "code",
   "execution_count": 16,
   "metadata": {},
   "outputs": [
    {
     "data": {
      "image/png": "[encoded data removed]",
      "text/plain": [
       "<Figure size 432x288 with 1 Axes>"
      ]
     },
     "metadata": {
      "needs_background": "light"
     },
     "output_type": "display_data"
    }
   ],
   "source": [
    "plt.plot(ROC_kf['FPR_1'], ROC_kf['TPR_1'], label='n_comp=1')\n",
    "plt.plot(ROC_kf['FPR_2'], ROC_kf['TPR_2'], label='n_comp=2')\n",
    "plt.plot(ROC_kf['FPR_3'], ROC_kf['TPR_3'], label='n_comp=3')\n",
    "plt.plot(ROC_kf['FPR_4'], ROC_kf['TPR_4'], label='n_comp=4')\n",
    "plt.xlim(0,0.02)\n",
    "plt.ylim(0,1)\n",
    "plt.legend(bbox_to_anchor=(1.05, 1), loc='upper left', borderaxespad=0.)\n",
    "plt.title(\"ROC Curves\")\n",
    "plt.xlabel(\"FPR\")\n",
    "plt.ylabel(\"TPR\")\n",
    "\n",
    "plt.show()"
   ]
  },
  {
   "cell_type": "markdown",
   "metadata": {},
   "source": [
    "## Validation AUC"
   ]
  },
  {
   "cell_type": "code",
   "execution_count": 17,
   "metadata": {},
   "outputs": [
    {
     "data": {
      "text/plain": [
       "0.9443590254672574"
      ]
     },
     "execution_count": 17,
     "metadata": {},
     "output_type": "execute_result"
    }
   ],
   "source": [
    "AUC = auc(np.append(np.insert(np.array(ROC_kf['FPR_3']),0,0,0),1), np.append(np.insert(np.array(ROC_kf['TPR_3']),0,0,0),1))\n",
    "    \n",
    "AUC"
   ]
  },
  {
   "cell_type": "markdown",
   "metadata": {},
   "source": [
    "## Test"
   ]
  },
  {
   "cell_type": "code",
   "execution_count": 18,
   "metadata": {},
   "outputs": [],
   "source": [
    "#Take best performing n_comp from validation.\n",
    "ROC = pd.DataFrame([])\n",
    "n_comp = 3\n",
    "\n",
    "gm = GaussianMixture(n_components=n_comp)\n",
    "df = pd.DataFrame([])\n",
    "\n",
    "#Calculate probability that a sample belongs to each of the clusters.\n",
    "for cluster in range(0,2):\n",
    "    gm.fit(X_train[X_train['Cluster'] == cluster].drop('Cluster', axis = 1))\n",
    "    df[cluster] = gm.score_samples(X_test)\n",
    "    \n",
    "#Score samples produces a log prob, we take the exponent to calculate probability.\n",
    "outputs = np.exp(df.max(axis = 1))\n",
    "\n",
    "#Create array of threshold values, logspace\n",
    "N = 76\n",
    "thresh = np.logspace(-50,25, N)\n",
    "\n",
    "#Make predictions based on threshold value\n",
    "TPR_list = []\n",
    "FPR_list = []\n",
    "for t in thresh:\n",
    "    predictions = []\n",
    "    for output in outputs:\n",
    "        if output < t:\n",
    "            predictions.append(1)\n",
    "        else:\n",
    "            predictions.append(0)\n",
    "\n",
    "    #Create dataframe containing predictions and actual outcomes for KFold\n",
    "    df_test_outcomes = pd.DataFrame({'predictions':predictions,'y_test':y_test})\n",
    "    \n",
    "    #Calculate true positive rate and false positive rate for each fold\n",
    "    TP = df_test_outcomes[(df_test_outcomes['predictions'] == 1) & (df_test_outcomes['y_test'] == 1)].shape[0]\n",
    "    TN = df_test_outcomes[(df_test_outcomes['predictions'] == 0) & (df_test_outcomes['y_test'] == 0)].shape[0]\n",
    "    FP = df_test_outcomes[(df_test_outcomes['predictions'] == 1) & (df_test_outcomes['y_test'] == 0)].shape[0]\n",
    "    FN = df_test_outcomes[(df_test_outcomes['predictions'] == 0) & (df_test_outcomes['y_test'] == 1)].shape[0]\n",
    "\n",
    "    TPR = TP/(TP+FN)\n",
    "    spec = TN/(TN+FP)\n",
    "    FPR = 1-spec\n",
    "\n",
    "    TPR_list.append(TPR)\n",
    "    FPR_list.append(FPR)\n",
    "\n",
    "    TPR_str = 'TPR_' + str(n_comp)\n",
    "    FPR_str = 'FPR_' + str(n_comp)\n",
    "\n",
    "#Compose ROC dataframe\n",
    "ROC = pd.DataFrame({TPR_str:TPR_list, FPR_str:FPR_list})       \n",
    "ROC.index = thresh"
   ]
  },
  {
   "cell_type": "markdown",
   "metadata": {},
   "source": [
    "## Plot Test ROC cruve"
   ]
  },
  {
   "cell_type": "code",
   "execution_count": 19,
   "metadata": {},
   "outputs": [
    {
     "data": {
      "text/plain": [
       "(0, 1)"
      ]
     },
     "execution_count": 19,
     "metadata": {},
     "output_type": "execute_result"
    },
    {
     "data": {
      "image/png": "[encoded data removed]",
      "text/plain": [
       "<Figure size 432x288 with 1 Axes>"
      ]
     },
     "metadata": {
      "needs_background": "light"
     },
     "output_type": "display_data"
    }
   ],
   "source": [
    "plt.plot(ROC['FPR_3'], ROC['TPR_3'], 'o', label='n_comp=1')\n",
    "plt.plot([0,1],[0,1], label = '1:1 line')\n",
    "plt.legend()\n",
    "plt.xlim(0,1)\n",
    "plt.ylim(0,1)"
   ]
  },
  {
   "cell_type": "code",
   "execution_count": 20,
   "metadata": {},
   "outputs": [
    {
     "data": {
      "image/png": "[encoded data removed]",
      "text/plain": [
       "<Figure size 432x288 with 1 Axes>"
      ]
     },
     "metadata": {
      "needs_background": "light"
     },
     "output_type": "display_data"
    }
   ],
   "source": [
    "plt.plot(ROC['FPR_3'], ROC['TPR_3'], label='n_comp=1')\n",
    "plt.xlim(0,0.02)\n",
    "plt.ylim(0,1)\n",
    "plt.legend(bbox_to_anchor=(1.05, 1), loc='upper left', borderaxespad=0.)\n",
    "plt.title(\"ROC Curves\")\n",
    "plt.xlabel(\"FPR\")\n",
    "plt.ylabel(\"TPR\")\n",
    "\n",
    "plt.show()"
   ]
  },
  {
   "cell_type": "markdown",
   "metadata": {},
   "source": [
    "## Test AUC"
   ]
  },
  {
   "cell_type": "code",
   "execution_count": 21,
   "metadata": {},
   "outputs": [
    {
     "data": {
      "text/plain": [
       "0.9435352895406246"
      ]
     },
     "execution_count": 21,
     "metadata": {},
     "output_type": "execute_result"
    }
   ],
   "source": [
    "AUC = auc(np.append(np.insert(np.array(ROC['FPR_3']),0,0,0),1), np.append(np.insert(np.array(ROC['TPR_3']),0,0,0),1))\n",
    "    \n",
    "AUC       "
   ]
  }
 ],
 "metadata": {
  "kernelspec": {
   "display_name": "Python 3",
   "language": "python",
   "name": "python3"
  },
  "language_info": {
   "codemirror_mode": {
    "name": "ipython",
    "version": 3
   },
   "file_extension": ".py",
   "mimetype": "text/x-python",
   "name": "python",
   "nbconvert_exporter": "python",
   "pygments_lexer": "ipython3",
   "version": "3.7.3"
  }
 },
 "nbformat": 4,
 "nbformat_minor": 4
}
